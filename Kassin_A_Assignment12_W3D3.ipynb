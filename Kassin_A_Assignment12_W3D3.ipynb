{
 "cells": [
  {
   "cell_type": "code",
   "execution_count": 22,
   "id": "f0485336",
   "metadata": {},
   "outputs": [],
   "source": [
    "import csv\n",
    "import datetime\n",
    "import os\n",
    "import requests\n",
    "from bs4 import BeautifulSoup\n",
    "from urllib.parse import urlparse\n",
    "from collections import Counter\n",
    "from stop_words import get_stop_words"
   ]
  },
  {
   "cell_type": "code",
   "execution_count": 23,
   "id": "17df550e",
   "metadata": {},
   "outputs": [],
   "source": [
    "def clean_word(word):\n",
    "    word = word.replace(\"!\", \"\")\n",
    "    word = word.replace(\"?\", \"\")\n",
    "    word = word.replace(\".\", \"\")\n",
    "    word = word.replace(\":\", \"\")\n",
    "    word = word.replace(\",\", \"\")\n",
    "    word = word.replace(\";\", \"\")\n",
    "    word = word.replace(\")\", \"\")\n",
    "    word = word.replace(\"(\", \"\")\n",
    "    word = word.replace(\"-\", \"\")\n",
    "    word = word.replace(\"--\", \"\")\n",
    "    word = word.replace('—', \"\")\n",
    "    return word\n",
    "\n",
    "def clean_up_words(words):\n",
    "    new_words = []\n",
    "    pkg_stop_words = get_stop_words('en')\n",
    "    my_stop_words = ['the', 'a', 'an', 'in', 'is', 'are', 'and', 'or', 'if']\n",
    "    for word in words:\n",
    "        word = word.lower()\n",
    "        cleaned_word = clean_word(word)\n",
    "        if cleaned_word in my_stop_words or cleaned_word in pkg_stop_words:\n",
    "            pass\n",
    "        else:\n",
    "            new_words.append(cleaned_word)\n",
    "    return new_words\n",
    "\n",
    "def create_csv_path(csv_path):\n",
    "    if not os.path.exists(csv_path):\n",
    "        with open(csv_path, 'w') as csvfile:\n",
    "            header_columns = ['word', 'count', 'timestamp']\n",
    "            writer = csv.DictWriter(csvfile, fieldnames=header_columns)\n",
    "            writer.writeheader()"
   ]
  },
  {
   "cell_type": "code",
   "execution_count": 24,
   "id": "95bdf88e",
   "metadata": {},
   "outputs": [
    {
     "name": "stdout",
     "output_type": "stream",
     "text": [
      "Enter any url to scrape: https://en.wikipedia.org/wiki/2022_Russian_invasion_of_Ukraine\n",
      "Grabbing... https://en.wikipedia.org/wiki/2022_Russian_invasion_of_Ukraine\n",
      "via domain en.wikipedia.org\n",
      "Status is 200\n",
      "Scraping..\n",
      "[('2022', 1437), ('february', 1067), ('^', 614), ('retrieved', 494), ('march', 469), ('archived', 426), ('original', 424), ('russian', 351), ('ukraine', 338), ('24', 261), ('war', 226), ('27', 195), ('russia', 192), ('26', 190), ('1', 185), ('25', 181), ('invasion', 143), ('ukrainian', 127), ('28', 112), ('military', 97), ('ukraine\"', 94), ('2', 87), ('news', 84), ('putin', 80), ('3', 79), ('–', 76), ('4', 75), ('2014', 73), ('forces', 65), ('times', 61)]\n"
     ]
    }
   ],
   "source": [
    "saved_domains = {\n",
    "    \"1\": \"main-container\",\n",
    "    \"2\": \"content-area\"\n",
    "}\n",
    "\n",
    "my_url = input(\"Enter any url to scrape: \") \n",
    "\n",
    "print(\"Grabbing...\", my_url)\n",
    "domain = urlparse(my_url).netloc\n",
    "print(\"via domain\", domain)\n",
    "\n",
    "response = requests.get(my_url)\n",
    "print(\"Status is\", response.status_code)\n",
    "\n",
    "if response.status_code != 200:\n",
    "    print(\"You can't scrape this\", response.status_code)\n",
    "else:\n",
    "    print(\"Scraping..\")\n",
    "    html = response.text\n",
    "    soup = BeautifulSoup(html, \"html.parser\")\n",
    "    if domain in saved_domains:\n",
    "        div_class = saved_domains[domain]\n",
    "        body_ = soup.find(\"div\", {\"class\": div_class})\n",
    "    else:\n",
    "        body_ = soup.find(\"body\")\n",
    "    words = body_.text.split()\n",
    "    clean_words = clean_up_words(words)\n",
    "    word_counts = Counter(clean_words)\n",
    "    print(word_counts.most_common(30))\n",
    "    filename = domain.replace(\".\", \"-\") + '.csv' \n",
    "    path  = 'csv/' + filename\n",
    "    timestamp = datetime.datetime.now()\n",
    "    create_csv_path(path)\n",
    "    with open(path, 'a') as csvfile:\n",
    "        header_columns = ['word', 'count', 'timestamp']\n",
    "        writer = csv.DictWriter(csvfile, fieldnames=header_columns)\n",
    "        for word, count in word_counts.most_common(30):\n",
    "            writer.writerow({\n",
    "                    \"count\": count,\n",
    "                    \"word\": word,\n",
    "                    \"timestamp\": timestamp\n",
    "                })"
   ]
  }
 ],
 "metadata": {
  "kernelspec": {
   "display_name": "Python 3 (ipykernel)",
   "language": "python",
   "name": "python3"
  },
  "language_info": {
   "codemirror_mode": {
    "name": "ipython",
    "version": 3
   },
   "file_extension": ".py",
   "mimetype": "text/x-python",
   "name": "python",
   "nbconvert_exporter": "python",
   "pygments_lexer": "ipython3",
   "version": "3.9.7"
  }
 },
 "nbformat": 4,
 "nbformat_minor": 5
}
